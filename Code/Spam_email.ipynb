{
 "cells": [
  {
   "cell_type": "code",
   "execution_count": 65,
   "id": "51b6f4f1-fb32-4235-a592-faeb5d4a96fd",
   "metadata": {},
   "outputs": [],
   "source": [
    "#import libraries\n",
    "import pandas as pd\n",
    "import numpy as np\n",
    "import seaborn as sns\n",
    "import matplotlib.pyplot as plt\n",
    "import string\n",
    "from nltk.corpus import stopwords\n",
    "from sklearn.feature_extraction.text import TfidfTransformer,CountVectorizer\n",
    "from sklearn.naive_bayes import MultinomialNB\n",
    "from sklearn.ensemble import RandomForestClassifier\n",
    "from sklearn.model_selection import train_test_split\n",
    "from sklearn.metrics import classification_report,confusion_matrix"
   ]
  },
  {
   "cell_type": "code",
   "execution_count": 66,
   "id": "0fce0a65-ac33-4281-96cd-419a8f5ee293",
   "metadata": {},
   "outputs": [],
   "source": [
    "#read csv\n",
    "spamham=pd.read_csv(\"spam_ham_dataset.csv\")"
   ]
  },
  {
   "cell_type": "code",
   "execution_count": 3,
   "id": "e02db141-d26d-48c2-a0cc-729e9a620620",
   "metadata": {},
   "outputs": [
    {
     "data": {
      "text/html": [
       "<div>\n",
       "<style scoped>\n",
       "    .dataframe tbody tr th:only-of-type {\n",
       "        vertical-align: middle;\n",
       "    }\n",
       "\n",
       "    .dataframe tbody tr th {\n",
       "        vertical-align: top;\n",
       "    }\n",
       "\n",
       "    .dataframe thead th {\n",
       "        text-align: right;\n",
       "    }\n",
       "</style>\n",
       "<table border=\"1\" class=\"dataframe\">\n",
       "  <thead>\n",
       "    <tr style=\"text-align: right;\">\n",
       "      <th></th>\n",
       "      <th>Unnamed: 0</th>\n",
       "      <th>label</th>\n",
       "      <th>text</th>\n",
       "      <th>label_num</th>\n",
       "    </tr>\n",
       "  </thead>\n",
       "  <tbody>\n",
       "    <tr>\n",
       "      <th>0</th>\n",
       "      <td>605</td>\n",
       "      <td>ham</td>\n",
       "      <td>Subject: enron methanol ; meter # : 988291\\r\\n...</td>\n",
       "      <td>0</td>\n",
       "    </tr>\n",
       "    <tr>\n",
       "      <th>1</th>\n",
       "      <td>2349</td>\n",
       "      <td>ham</td>\n",
       "      <td>Subject: hpl nom for january 9 , 2001\\r\\n( see...</td>\n",
       "      <td>0</td>\n",
       "    </tr>\n",
       "    <tr>\n",
       "      <th>2</th>\n",
       "      <td>3624</td>\n",
       "      <td>ham</td>\n",
       "      <td>Subject: neon retreat\\r\\nho ho ho , we ' re ar...</td>\n",
       "      <td>0</td>\n",
       "    </tr>\n",
       "    <tr>\n",
       "      <th>3</th>\n",
       "      <td>4685</td>\n",
       "      <td>spam</td>\n",
       "      <td>Subject: photoshop , windows , office . cheap ...</td>\n",
       "      <td>1</td>\n",
       "    </tr>\n",
       "    <tr>\n",
       "      <th>4</th>\n",
       "      <td>2030</td>\n",
       "      <td>ham</td>\n",
       "      <td>Subject: re : indian springs\\r\\nthis deal is t...</td>\n",
       "      <td>0</td>\n",
       "    </tr>\n",
       "    <tr>\n",
       "      <th>...</th>\n",
       "      <td>...</td>\n",
       "      <td>...</td>\n",
       "      <td>...</td>\n",
       "      <td>...</td>\n",
       "    </tr>\n",
       "    <tr>\n",
       "      <th>5166</th>\n",
       "      <td>1518</td>\n",
       "      <td>ham</td>\n",
       "      <td>Subject: put the 10 on the ft\\r\\nthe transport...</td>\n",
       "      <td>0</td>\n",
       "    </tr>\n",
       "    <tr>\n",
       "      <th>5167</th>\n",
       "      <td>404</td>\n",
       "      <td>ham</td>\n",
       "      <td>Subject: 3 / 4 / 2000 and following noms\\r\\nhp...</td>\n",
       "      <td>0</td>\n",
       "    </tr>\n",
       "    <tr>\n",
       "      <th>5168</th>\n",
       "      <td>2933</td>\n",
       "      <td>ham</td>\n",
       "      <td>Subject: calpine daily gas nomination\\r\\n&gt;\\r\\n...</td>\n",
       "      <td>0</td>\n",
       "    </tr>\n",
       "    <tr>\n",
       "      <th>5169</th>\n",
       "      <td>1409</td>\n",
       "      <td>ham</td>\n",
       "      <td>Subject: industrial worksheets for august 2000...</td>\n",
       "      <td>0</td>\n",
       "    </tr>\n",
       "    <tr>\n",
       "      <th>5170</th>\n",
       "      <td>4807</td>\n",
       "      <td>spam</td>\n",
       "      <td>Subject: important online banking alert\\r\\ndea...</td>\n",
       "      <td>1</td>\n",
       "    </tr>\n",
       "  </tbody>\n",
       "</table>\n",
       "<p>5171 rows × 4 columns</p>\n",
       "</div>"
      ],
      "text/plain": [
       "      Unnamed: 0 label                                               text  \\\n",
       "0            605   ham  Subject: enron methanol ; meter # : 988291\\r\\n...   \n",
       "1           2349   ham  Subject: hpl nom for january 9 , 2001\\r\\n( see...   \n",
       "2           3624   ham  Subject: neon retreat\\r\\nho ho ho , we ' re ar...   \n",
       "3           4685  spam  Subject: photoshop , windows , office . cheap ...   \n",
       "4           2030   ham  Subject: re : indian springs\\r\\nthis deal is t...   \n",
       "...          ...   ...                                                ...   \n",
       "5166        1518   ham  Subject: put the 10 on the ft\\r\\nthe transport...   \n",
       "5167         404   ham  Subject: 3 / 4 / 2000 and following noms\\r\\nhp...   \n",
       "5168        2933   ham  Subject: calpine daily gas nomination\\r\\n>\\r\\n...   \n",
       "5169        1409   ham  Subject: industrial worksheets for august 2000...   \n",
       "5170        4807  spam  Subject: important online banking alert\\r\\ndea...   \n",
       "\n",
       "      label_num  \n",
       "0             0  \n",
       "1             0  \n",
       "2             0  \n",
       "3             1  \n",
       "4             0  \n",
       "...         ...  \n",
       "5166          0  \n",
       "5167          0  \n",
       "5168          0  \n",
       "5169          0  \n",
       "5170          1  \n",
       "\n",
       "[5171 rows x 4 columns]"
      ]
     },
     "execution_count": 3,
     "metadata": {},
     "output_type": "execute_result"
    }
   ],
   "source": [
    "spamham"
   ]
  },
  {
   "cell_type": "code",
   "execution_count": 4,
   "id": "b6ac9dd9-0ddb-4c36-8734-3c708504f2fb",
   "metadata": {},
   "outputs": [
    {
     "data": {
      "text/plain": [
       "0    3672\n",
       "1    1499\n",
       "Name: label_num, dtype: int64"
      ]
     },
     "execution_count": 4,
     "metadata": {},
     "output_type": "execute_result"
    }
   ],
   "source": [
    "#target value counts\n",
    "spamham['label_num'].value_counts()"
   ]
  },
  {
   "cell_type": "code",
   "execution_count": 67,
   "id": "0f7a762d-8c1c-4dc5-9d12-fb0fa744b9aa",
   "metadata": {},
   "outputs": [
    {
     "name": "stderr",
     "output_type": "stream",
     "text": [
      "C:\\Users\\schek\\anaconda3\\lib\\site-packages\\seaborn\\_decorators.py:36: FutureWarning: Pass the following variable as a keyword arg: x. From version 0.12, the only valid positional argument will be `data`, and passing other arguments without an explicit keyword will result in an error or misinterpretation.\n",
      "  warnings.warn(\n"
     ]
    },
    {
     "data": {
      "text/plain": [
       "<AxesSubplot:xlabel='label_num', ylabel='count'>"
      ]
     },
     "execution_count": 67,
     "metadata": {},
     "output_type": "execute_result"
    },
    {
     "data": {
      "image/png": "[encoded data removed]",
      "text/plain": [
       "<Figure size 432x288 with 1 Axes>"
      ]
     },
     "metadata": {
      "needs_background": "light"
     },
     "output_type": "display_data"
    }
   ],
   "source": [
    "#count plot\n",
    "sns.countplot('label_num',data=spamham)"
   ]
  },
  {
   "cell_type": "code",
   "execution_count": 68,
   "id": "fe0d6608-47d4-4b93-a806-94a781b2b018",
   "metadata": {},
   "outputs": [],
   "source": [
    "#drop unnamed column\n",
    "spamham.drop('Unnamed: 0',axis=1,inplace=True)"
   ]
  },
  {
   "cell_type": "code",
   "execution_count": 7,
   "id": "6920fded-afe0-4d26-9423-52866d587fc9",
   "metadata": {},
   "outputs": [
    {
     "data": {
      "text/html": [
       "<div>\n",
       "<style scoped>\n",
       "    .dataframe tbody tr th:only-of-type {\n",
       "        vertical-align: middle;\n",
       "    }\n",
       "\n",
       "    .dataframe tbody tr th {\n",
       "        vertical-align: top;\n",
       "    }\n",
       "\n",
       "    .dataframe thead th {\n",
       "        text-align: right;\n",
       "    }\n",
       "</style>\n",
       "<table border=\"1\" class=\"dataframe\">\n",
       "  <thead>\n",
       "    <tr style=\"text-align: right;\">\n",
       "      <th></th>\n",
       "      <th>label</th>\n",
       "      <th>text</th>\n",
       "      <th>label_num</th>\n",
       "    </tr>\n",
       "  </thead>\n",
       "  <tbody>\n",
       "    <tr>\n",
       "      <th>0</th>\n",
       "      <td>ham</td>\n",
       "      <td>Subject: enron methanol ; meter # : 988291\\r\\n...</td>\n",
       "      <td>0</td>\n",
       "    </tr>\n",
       "    <tr>\n",
       "      <th>1</th>\n",
       "      <td>ham</td>\n",
       "      <td>Subject: hpl nom for january 9 , 2001\\r\\n( see...</td>\n",
       "      <td>0</td>\n",
       "    </tr>\n",
       "    <tr>\n",
       "      <th>2</th>\n",
       "      <td>ham</td>\n",
       "      <td>Subject: neon retreat\\r\\nho ho ho , we ' re ar...</td>\n",
       "      <td>0</td>\n",
       "    </tr>\n",
       "    <tr>\n",
       "      <th>3</th>\n",
       "      <td>spam</td>\n",
       "      <td>Subject: photoshop , windows , office . cheap ...</td>\n",
       "      <td>1</td>\n",
       "    </tr>\n",
       "    <tr>\n",
       "      <th>4</th>\n",
       "      <td>ham</td>\n",
       "      <td>Subject: re : indian springs\\r\\nthis deal is t...</td>\n",
       "      <td>0</td>\n",
       "    </tr>\n",
       "    <tr>\n",
       "      <th>...</th>\n",
       "      <td>...</td>\n",
       "      <td>...</td>\n",
       "      <td>...</td>\n",
       "    </tr>\n",
       "    <tr>\n",
       "      <th>5166</th>\n",
       "      <td>ham</td>\n",
       "      <td>Subject: put the 10 on the ft\\r\\nthe transport...</td>\n",
       "      <td>0</td>\n",
       "    </tr>\n",
       "    <tr>\n",
       "      <th>5167</th>\n",
       "      <td>ham</td>\n",
       "      <td>Subject: 3 / 4 / 2000 and following noms\\r\\nhp...</td>\n",
       "      <td>0</td>\n",
       "    </tr>\n",
       "    <tr>\n",
       "      <th>5168</th>\n",
       "      <td>ham</td>\n",
       "      <td>Subject: calpine daily gas nomination\\r\\n&gt;\\r\\n...</td>\n",
       "      <td>0</td>\n",
       "    </tr>\n",
       "    <tr>\n",
       "      <th>5169</th>\n",
       "      <td>ham</td>\n",
       "      <td>Subject: industrial worksheets for august 2000...</td>\n",
       "      <td>0</td>\n",
       "    </tr>\n",
       "    <tr>\n",
       "      <th>5170</th>\n",
       "      <td>spam</td>\n",
       "      <td>Subject: important online banking alert\\r\\ndea...</td>\n",
       "      <td>1</td>\n",
       "    </tr>\n",
       "  </tbody>\n",
       "</table>\n",
       "<p>5171 rows × 3 columns</p>\n",
       "</div>"
      ],
      "text/plain": [
       "     label                                               text  label_num\n",
       "0      ham  Subject: enron methanol ; meter # : 988291\\r\\n...          0\n",
       "1      ham  Subject: hpl nom for january 9 , 2001\\r\\n( see...          0\n",
       "2      ham  Subject: neon retreat\\r\\nho ho ho , we ' re ar...          0\n",
       "3     spam  Subject: photoshop , windows , office . cheap ...          1\n",
       "4      ham  Subject: re : indian springs\\r\\nthis deal is t...          0\n",
       "...    ...                                                ...        ...\n",
       "5166   ham  Subject: put the 10 on the ft\\r\\nthe transport...          0\n",
       "5167   ham  Subject: 3 / 4 / 2000 and following noms\\r\\nhp...          0\n",
       "5168   ham  Subject: calpine daily gas nomination\\r\\n>\\r\\n...          0\n",
       "5169   ham  Subject: industrial worksheets for august 2000...          0\n",
       "5170  spam  Subject: important online banking alert\\r\\ndea...          1\n",
       "\n",
       "[5171 rows x 3 columns]"
      ]
     },
     "execution_count": 7,
     "metadata": {},
     "output_type": "execute_result"
    }
   ],
   "source": [
    "spamham"
   ]
  },
  {
   "cell_type": "code",
   "execution_count": 8,
   "id": "d38c1bfd-1ff0-4843-b743-5aef4278b31e",
   "metadata": {},
   "outputs": [
    {
     "data": {
      "text/plain": [
       "count                                                  5171\n",
       "unique                                                 4993\n",
       "top       Subject: calpine daily gas nomination\\r\\n>\\r\\n...\n",
       "freq                                                     20\n",
       "Name: text, dtype: object"
      ]
     },
     "execution_count": 8,
     "metadata": {},
     "output_type": "execute_result"
    }
   ],
   "source": [
    "spamham['text'].describe()"
   ]
  },
  {
   "cell_type": "code",
   "execution_count": 9,
   "id": "824348a2-6cf0-43ea-abd8-17df862e4ffa",
   "metadata": {},
   "outputs": [
    {
     "data": {
      "text/html": [
       "<div>\n",
       "<style scoped>\n",
       "    .dataframe tbody tr th:only-of-type {\n",
       "        vertical-align: middle;\n",
       "    }\n",
       "\n",
       "    .dataframe tbody tr th {\n",
       "        vertical-align: top;\n",
       "    }\n",
       "\n",
       "    .dataframe thead tr th {\n",
       "        text-align: left;\n",
       "    }\n",
       "\n",
       "    .dataframe thead tr:last-of-type th {\n",
       "        text-align: right;\n",
       "    }\n",
       "</style>\n",
       "<table border=\"1\" class=\"dataframe\">\n",
       "  <thead>\n",
       "    <tr>\n",
       "      <th></th>\n",
       "      <th colspan=\"8\" halign=\"left\">label_num</th>\n",
       "    </tr>\n",
       "    <tr>\n",
       "      <th></th>\n",
       "      <th>count</th>\n",
       "      <th>mean</th>\n",
       "      <th>std</th>\n",
       "      <th>min</th>\n",
       "      <th>25%</th>\n",
       "      <th>50%</th>\n",
       "      <th>75%</th>\n",
       "      <th>max</th>\n",
       "    </tr>\n",
       "    <tr>\n",
       "      <th>label</th>\n",
       "      <th></th>\n",
       "      <th></th>\n",
       "      <th></th>\n",
       "      <th></th>\n",
       "      <th></th>\n",
       "      <th></th>\n",
       "      <th></th>\n",
       "      <th></th>\n",
       "    </tr>\n",
       "  </thead>\n",
       "  <tbody>\n",
       "    <tr>\n",
       "      <th>ham</th>\n",
       "      <td>3672.0</td>\n",
       "      <td>0.0</td>\n",
       "      <td>0.0</td>\n",
       "      <td>0.0</td>\n",
       "      <td>0.0</td>\n",
       "      <td>0.0</td>\n",
       "      <td>0.0</td>\n",
       "      <td>0.0</td>\n",
       "    </tr>\n",
       "    <tr>\n",
       "      <th>spam</th>\n",
       "      <td>1499.0</td>\n",
       "      <td>1.0</td>\n",
       "      <td>0.0</td>\n",
       "      <td>1.0</td>\n",
       "      <td>1.0</td>\n",
       "      <td>1.0</td>\n",
       "      <td>1.0</td>\n",
       "      <td>1.0</td>\n",
       "    </tr>\n",
       "  </tbody>\n",
       "</table>\n",
       "</div>"
      ],
      "text/plain": [
       "      label_num                                   \n",
       "          count mean  std  min  25%  50%  75%  max\n",
       "label                                             \n",
       "ham      3672.0  0.0  0.0  0.0  0.0  0.0  0.0  0.0\n",
       "spam     1499.0  1.0  0.0  1.0  1.0  1.0  1.0  1.0"
      ]
     },
     "execution_count": 9,
     "metadata": {},
     "output_type": "execute_result"
    }
   ],
   "source": [
    "spamham.groupby('label').describe()"
   ]
  },
  {
   "cell_type": "code",
   "execution_count": 70,
   "id": "bf813ea3-9899-4e44-8fcb-bc21961c8eb6",
   "metadata": {},
   "outputs": [],
   "source": [
    "#getting the length of each text and make a new column\n",
    "spamham['length']=spamham['text'].apply(len)"
   ]
  },
  {
   "cell_type": "code",
   "execution_count": 71,
   "id": "d55f4859-5a97-4191-9125-842b4ffbedd2",
   "metadata": {},
   "outputs": [
    {
     "data": {
      "text/html": [
       "<div>\n",
       "<style scoped>\n",
       "    .dataframe tbody tr th:only-of-type {\n",
       "        vertical-align: middle;\n",
       "    }\n",
       "\n",
       "    .dataframe tbody tr th {\n",
       "        vertical-align: top;\n",
       "    }\n",
       "\n",
       "    .dataframe thead th {\n",
       "        text-align: right;\n",
       "    }\n",
       "</style>\n",
       "<table border=\"1\" class=\"dataframe\">\n",
       "  <thead>\n",
       "    <tr style=\"text-align: right;\">\n",
       "      <th></th>\n",
       "      <th>label</th>\n",
       "      <th>text</th>\n",
       "      <th>label_num</th>\n",
       "      <th>length</th>\n",
       "    </tr>\n",
       "  </thead>\n",
       "  <tbody>\n",
       "    <tr>\n",
       "      <th>0</th>\n",
       "      <td>ham</td>\n",
       "      <td>Subject: enron methanol ; meter # : 988291\\r\\n...</td>\n",
       "      <td>0</td>\n",
       "      <td>327</td>\n",
       "    </tr>\n",
       "    <tr>\n",
       "      <th>1</th>\n",
       "      <td>ham</td>\n",
       "      <td>Subject: hpl nom for january 9 , 2001\\r\\n( see...</td>\n",
       "      <td>0</td>\n",
       "      <td>97</td>\n",
       "    </tr>\n",
       "    <tr>\n",
       "      <th>2</th>\n",
       "      <td>ham</td>\n",
       "      <td>Subject: neon retreat\\r\\nho ho ho , we ' re ar...</td>\n",
       "      <td>0</td>\n",
       "      <td>2524</td>\n",
       "    </tr>\n",
       "    <tr>\n",
       "      <th>3</th>\n",
       "      <td>spam</td>\n",
       "      <td>Subject: photoshop , windows , office . cheap ...</td>\n",
       "      <td>1</td>\n",
       "      <td>414</td>\n",
       "    </tr>\n",
       "    <tr>\n",
       "      <th>4</th>\n",
       "      <td>ham</td>\n",
       "      <td>Subject: re : indian springs\\r\\nthis deal is t...</td>\n",
       "      <td>0</td>\n",
       "      <td>336</td>\n",
       "    </tr>\n",
       "    <tr>\n",
       "      <th>...</th>\n",
       "      <td>...</td>\n",
       "      <td>...</td>\n",
       "      <td>...</td>\n",
       "      <td>...</td>\n",
       "    </tr>\n",
       "    <tr>\n",
       "      <th>5166</th>\n",
       "      <td>ham</td>\n",
       "      <td>Subject: put the 10 on the ft\\r\\nthe transport...</td>\n",
       "      <td>0</td>\n",
       "      <td>534</td>\n",
       "    </tr>\n",
       "    <tr>\n",
       "      <th>5167</th>\n",
       "      <td>ham</td>\n",
       "      <td>Subject: 3 / 4 / 2000 and following noms\\r\\nhp...</td>\n",
       "      <td>0</td>\n",
       "      <td>1114</td>\n",
       "    </tr>\n",
       "    <tr>\n",
       "      <th>5168</th>\n",
       "      <td>ham</td>\n",
       "      <td>Subject: calpine daily gas nomination\\r\\n&gt;\\r\\n...</td>\n",
       "      <td>0</td>\n",
       "      <td>402</td>\n",
       "    </tr>\n",
       "    <tr>\n",
       "      <th>5169</th>\n",
       "      <td>ham</td>\n",
       "      <td>Subject: industrial worksheets for august 2000...</td>\n",
       "      <td>0</td>\n",
       "      <td>573</td>\n",
       "    </tr>\n",
       "    <tr>\n",
       "      <th>5170</th>\n",
       "      <td>spam</td>\n",
       "      <td>Subject: important online banking alert\\r\\ndea...</td>\n",
       "      <td>1</td>\n",
       "      <td>1114</td>\n",
       "    </tr>\n",
       "  </tbody>\n",
       "</table>\n",
       "<p>5171 rows × 4 columns</p>\n",
       "</div>"
      ],
      "text/plain": [
       "     label                                               text  label_num  \\\n",
       "0      ham  Subject: enron methanol ; meter # : 988291\\r\\n...          0   \n",
       "1      ham  Subject: hpl nom for january 9 , 2001\\r\\n( see...          0   \n",
       "2      ham  Subject: neon retreat\\r\\nho ho ho , we ' re ar...          0   \n",
       "3     spam  Subject: photoshop , windows , office . cheap ...          1   \n",
       "4      ham  Subject: re : indian springs\\r\\nthis deal is t...          0   \n",
       "...    ...                                                ...        ...   \n",
       "5166   ham  Subject: put the 10 on the ft\\r\\nthe transport...          0   \n",
       "5167   ham  Subject: 3 / 4 / 2000 and following noms\\r\\nhp...          0   \n",
       "5168   ham  Subject: calpine daily gas nomination\\r\\n>\\r\\n...          0   \n",
       "5169   ham  Subject: industrial worksheets for august 2000...          0   \n",
       "5170  spam  Subject: important online banking alert\\r\\ndea...          1   \n",
       "\n",
       "      length  \n",
       "0        327  \n",
       "1         97  \n",
       "2       2524  \n",
       "3        414  \n",
       "4        336  \n",
       "...      ...  \n",
       "5166     534  \n",
       "5167    1114  \n",
       "5168     402  \n",
       "5169     573  \n",
       "5170    1114  \n",
       "\n",
       "[5171 rows x 4 columns]"
      ]
     },
     "execution_count": 71,
     "metadata": {},
     "output_type": "execute_result"
    }
   ],
   "source": [
    "spamham"
   ]
  },
  {
   "cell_type": "code",
   "execution_count": 72,
   "id": "bae00871-2004-4422-9f53-666bb5f874d3",
   "metadata": {},
   "outputs": [
    {
     "data": {
      "text/plain": [
       "<AxesSubplot:ylabel='Frequency'>"
      ]
     },
     "execution_count": 72,
     "metadata": {},
     "output_type": "execute_result"
    },
    {
     "data": {
      "image/png": "[encoded data removed]",
      "text/plain": [
       "<Figure size 432x288 with 1 Axes>"
      ]
     },
     "metadata": {
      "needs_background": "light"
     },
     "output_type": "display_data"
    }
   ],
   "source": [
    "#text length histogram\n",
    "spamham['length'].plot.hist(bins=30)"
   ]
  },
  {
   "cell_type": "code",
   "execution_count": 13,
   "id": "8246235f-3846-4929-8df5-0da3b995d027",
   "metadata": {},
   "outputs": [
    {
     "data": {
      "text/plain": [
       "count     5171.000000\n",
       "mean      1048.391994\n",
       "std       1528.513435\n",
       "min         11.000000\n",
       "25%        244.000000\n",
       "50%        540.000000\n",
       "75%       1237.000000\n",
       "max      32258.000000\n",
       "Name: length, dtype: float64"
      ]
     },
     "execution_count": 13,
     "metadata": {},
     "output_type": "execute_result"
    }
   ],
   "source": [
    "spamham['length'].describe()"
   ]
  },
  {
   "cell_type": "code",
   "execution_count": 73,
   "id": "5c4f9ae6-82f9-424f-a223-709c1dd4947e",
   "metadata": {},
   "outputs": [
    {
     "data": {
      "text/plain": [
       "'Subject: fw : \" red , white and blue out \"\\r\\n- - - - - original message - - - - -\\r\\nfrom : carter , rhonda [ mailto : rcarter @ cooperinst . org ]\\r\\nsent : friday , september 14 , 2001 12 : 33 pm\\r\\nto : \\' al _ abbott @ compuserve . com \\' ; \\' mabner @ sprintmail . com \\' ;\\r\\n\\' aggiebob @ hotmail . com \\' ; \\' adamsck @ flash . net \\' ; \\' gadams @ promus . com \\' ;\\r\\n\\' pjadell @ yahoo . com \\' ; \\' bob @ cybersitebuilders . com \\' ;\\r\\n\\' worml 998 @ hotmail . com \\' ; \\' janie . beth @ prodigy . net \\' ; \\' gakin @ mccarthy . com \\' ;\\r\\n\\' vja @ flash . net \\' ; \\' locke . alder @ gte . net \\' ; \\' calexaol @ 7 - 11 . com \\' ;\\r\\n\\' erika @ publish . no . irs . gov \\' ; \\' ali @ buz . net \\' ; \\' brada @ ticnet . com \\' ;\\r\\n\\' svallen @ aol . com \\' ; \\' jand 30 @ aol . com \\' ; \\' allan @ stratsolgroup . com \\' ;\\r\\n\\' chuck _ anderson @ oxy . com \\' ; \\' mdqsga 96 @ aol . com \\' ;\\r\\n\\' brian _ anhalt @ bigfoot . com \\' ; \\' aranda @ nbstx . com \\' ; \\' aggiemom @ archer . cx \\' ;\\r\\n\\' jard @ nortelnetworks . com \\' ; \\' abarch @ airmail . net \\' ; \\' narguello @ yahoo . com \\' ;\\r\\n\\' jarmstrong @ tqtx . com \\' ; \\' mikie @ aggie . zzn . com \\' ; \\' ag 85 @ home . com \\' ;\\r\\n\\' kmarnold @ home . com \\' ; \\' hollya @ cyber - designs . com \\' ;\\r\\n\\' hughashburn @ netscape . net \\' ; \\' bob @ cybersitebuilders . com \\' ;\\r\\n\\' olinatkinson @ dellnet . com \\' ; \\' papaayres @ aol . com \\' ; \\' abackof 68 @ aol . com \\' ;\\r\\n\\' badgett @ ti . com \\' ; \\' kbailie @ nortel . com \\' ; \\' wjbaird @ mapsco . com \\' ;\\r\\n\\' jbaker @ ecomtrading . com \\' ; \\' tim . banigan @ nortelnetworks . com \\' ;\\r\\n\\' atbarlow @ mail . smu . edu \\' ; \\' arnonvic @ aol . com \\' ;\\r\\n\\' john _ laurabarr @ email . msn . com \\' ; \\' jillmbarrow @ hotmail . com \\' ;\\r\\n\\' b - barton @ ti . com \\' ; \\' tbates @ why . net \\' ; \\' normabautista @ worldnet . att . net \\' ;\\r\\n\\' baweja @ aol . com \\' ; \\' gbaxley @ nt . com \\' ; \\' dabayers @ juno . com \\' ;\\r\\n\\' jbeard @ halff . com \\' ; \\' bearden . e @ grainger . com \\' ; \\' tbeaslel @ tuelectric . com \\' ;\\r\\n\\' kayebeatty @ aol . com \\' ; \\' triciabeaudreau @ hotmail . com \\' ;\\r\\n\\' abeckley @ executrain - dal . com \\' ; \\' scott . r . bellamy @ marshmc . com \\' ;\\r\\n\\' chiaggie @ aol . com \\' ; \\' dbenefield @ merit . com \\' ; \\' bryan @ dalmac . com \\' ;\\r\\n\\' bennie @ flash . net \\' ; \\' bergerd @ earthlink . net \\' ; \\' ted . e . bernard @ ac . com \\' ;\\r\\n\\' sberry @ nortel . com \\' ; \\' jody . bingham @ ps . net \\' ; \\' bobird @ att . com \\' ;\\r\\n\\' keithbird @ yahoo . com \\' ; \\' mbish @ nortel . com \\' ; \\' dawn . bitar @ ps . net \\' ;\\r\\n\\' bittners @ swbell . net \\' ; \\' akbjerke @ postoffice . swbell . net \\' ;\\r\\n\\' michael . blahitka @ intervoice - brite . com \\' ; \\' blairsl @ juno . com \\' ;\\r\\n\\' bnlblake @ flash . net \\' ; \\' gbock 2 @ excite . com \\' ; \\' bobb 761 @ worldnet . att . net \\' ;\\r\\n\\' jbond @ genuity . com \\' ; \\' bonsai 2 @ flash . net \\' ; \\' bonerhk @ earthlink . net \\' ;\\r\\n\\' warrenlb @ aol . com \\' ; \\' dbb @ sa - inc . com \\' ; \\' lynnbottlinger @ hotmail . com \\' ;\\r\\n\\' dkboughton @ home . com \\' ; \\' mbouma @ pgbpike . com \\' ; \\' bowden _ rap @ msn . com \\' ;\\r\\n\\' jfbowen @ swbell . net \\' ; \\' cbowersl @ airmail . net \\' ; \\' scott . bowers @ eds . com \\' ;\\r\\n\\' mbag 92 @ aol . com \\' ; \\' lorna @ . com \\' ;\\r\\n\\' sheryl . bradley @ eds . com \\' ; \\' andybradshaw @ home . com \\' ; \\' bramlett @ home . com \\' ;\\r\\n\\' mwbranch @ aol . com \\' ; \\' tbrandish @ bigfoot . com \\' ; \\' kbrannon @ flash . net \\' ;\\r\\n\\' bebe - tx @ mindspring . com \\' ; \\' devere @ flash . net \\' ; \\' lgbrennan @ earthlink . net \\' ;\\r\\n\\' nicole @ dalmac . com \\' ; \\' tmbreeze @ gte . net \\' ; \\' gwb 2 @ flash . net \\' ;\\r\\n\\' john @ smithsummers . com \\' ; \\' bmbrinkl @ aol . com \\' ; \\' nateb 7899 @ aol . com \\' ;\\r\\n\\' melissabrooks @ mindspring . com \\' ; \\' rhbrooks @ vartec . net \\' ;\\r\\n\\' bbrooks @ sbair . com \\' ; \\' dbrosey @ airmail . net \\' ; \\' bbrown @ micron . com \\' ;\\r\\n\\' klbo 2 @ cs . com \\' ; \\' erich . browne @ central . sun . com \\' ; \\' deniseb @ ticnet . com \\' ;\\r\\n\\' jbrozovi @ usa . alcatel . com \\' ; \\' bruckm @ airmail . net \\' ;\\r\\n\\' bbruton @ scan - direct . com \\' ; \\' david . a . bryant @ bigfoot . com \\' ;\\r\\n\\' ccb @ nortelnetworks . com \\' ; \\' jnkbull @ netzero . com \\' ; \\' burchta 330 @ aol . com \\' ;\\r\\n\\' drburdenjr @ aol . com \\' ; \\' jburnett @ foxsports . net \\' ; \\' haleburr @ aol . com \\' ;\\r\\n\\' burrow @ nortel . ca \\' ; \\' rbl 419 @ aol . com \\' ; \\' mikebusch @ mail . com \\' ;\\r\\n\\' cbyrum @ goodmanfamily . com \\' ; \\' calkfamf @ home . com \\' ;\\r\\n\\' kcameron @ yahoo - inc . com \\' ; \\' jsmiley @ pisd . edu \\' ; \\' jajasoup @ aol . com \\' ;\\r\\n\\' laurie . canning @ ericsson . com \\' ; \\' jjcantwell @ worldnet . att . net \\' ;\\r\\n\\' djcarr @ texas . net \\' ; \\' richardjcarroll @ yahoo . com \\' ; \\' drviv @ yahoo . com \\' ;\\r\\n\\' rob @ startech . org \\' ; \\' tcarson 98 @ yahoo . com \\' ; \\' brandacarter @ microlabs . com \\' ;\\r\\n\\' lee _ carter @ seha . com \\' ; \\' dcarter 768 @ aol . com \\' ; carter , rhonda ;\\r\\n\\' todd . carter @ fnc . fujitsu . com \\' ; \\' cwc 68 @ swbell . net \\' ; \\' jcash @ firstam . com \\' ;\\r\\n\\' tcastellanos @ usa . net \\' ; \\' wcaudi @ concentric . net \\' ;\\r\\n\\' cavanaug @ gustafson . com \\' ; \\' cschamberlin @ mindspring . com \\' ;\\r\\n\\' ebeth @ airmail . net \\' ; \\' cookie _ chambers @ pagenet . com \\' ;\\r\\n\\' jchamp 5626 @ aol . com \\' ; \\' sherriel @ flash . net \\' ; \\' smchamp @ dhc . net \\' ;\\r\\n\\' svchandl @ garlandisd . net \\' ; \\' fectac @ aol . com \\' ; \\' chris . chastain @ ey . com \\' ;\\r\\n\\' ccchatham @ aol . com \\' ; \\' kevin . chilcoat @ fritolay . com \\' ; \\' mattc @ dallas . net \\' ;\\r\\n\\' jchoc @ msn . com \\' ; \\' shannon @ thechristianfamily . com \\' ;\\r\\n\\' christian @ medicine . tamu . edu \\' ; \\' jcipolla @ hotmail . com \\' ; \\' dclark @ dhc . net \\' ;\\r\\n\\' sclark @ dhc . net \\' ; \\' mclary @ elux . com \\' ; \\' brad @ bigl 2 sports . com \\' ;\\r\\n\\' clemmons @ home . com \\' ; \\' beth 2047 @ aol . com \\' ; \\' acoble @ cisco . com \\' ;\\r\\n\\' jjcoburn @ aol . com \\' ; \\' dbclaw @ hotmail . com \\' ; \\' matt _ cole @ yahoo . com \\' ;\\r\\n\\' cac 75442 @ aol . com \\' ; \\' jcoll 75442 @ aol . com \\' ; \\' jorubycol @ aol . com \\' ;\\r\\n\\' collins 587 @ hotmail . com \\' ; \\' condoaggie @ aol . com \\' ; \\' swcbox @ aol . com \\' ;\\r\\n\\' crcandmac @ aol . com \\' ; \\' crcook @ gte . net \\' ; \\' martha _ cook @ publicis - usa . com \\' ;\\r\\n\\' mustrdsd @ flash . net \\' ; \\' acooper 401 @ aol . com \\' ; \\' jcooper 95 @ yahoo . com \\' ;\\r\\n\\' karen . m . cope @ dal . frb . org \\' ; \\' kellyandamy @ sprintmail . com \\' ;\\r\\n\\' vc 4445 @ earthlink . com \\' ; \\' brendyc @ aol . com \\' ; \\' kdcornell @ compuserve . com \\' ;\\r\\n\\' sc 93 @ hotmail . com \\' ; \\' bcorrell @ aol . com \\' ; \\' mcortino @ swbell . net \\' ;\\r\\n\\' cowan 95 @ aol . com \\' ; \\' coxl 997 @ yahoo . com \\' ; \\' monarch @ usa . net \\' ;\\r\\n\\' jason _ cox @ hotmail . com \\' ; \\' lacoyne @ flashcom . net \\' ; \\' garycl 2345 @ aol . com \\' ;\\r\\n\\' julesag 95 @ flash . net \\' ; \\' crawfordsl @ cdm . com \\' ; \\' phantom 495 @ aol . com \\' ;\\r\\n\\' ccriswel @ pisd . edu \\' ; \\' sec @ inetinc . com \\' ; \\' holly . a . cromack @ ac . com \\' ;\\r\\n\\' kcudlipp @ arimail . net \\' ; \\' mrculp @ home . com \\' ; \\' cathy . cupps @ eds . com \\' ;\\r\\n\\' curranc @ diamtech . com \\' ; \\' andyc @ gwmail . plano . gov \\' ;\\r\\n\\' lindsay _ daigle @ yahoo . com \\' ; \\' ag 93 whoop @ hotmail . com \\' ;\\r\\n\\' dtddtd 444 @ aol . com \\' ; \\' edaniel @ flash . net \\' ; \\' tamidarby @ home . com \\' ;\\r\\n\\' cagladan @ usa . net \\' ; \\' smitadas @ ix . netcom . com \\' ; \\' cgwd 94 @ aol . com \\' ;\\r\\n\\' kay . daugherty 3 @ gte . net \\' ; \\' bob _ daughrity @ cabp . com \\' ;\\r\\n\\' aggiel 984 @ juno . com \\' ; \\' jdd . rad @ gte . net \\' ; \\' riverl @ flash . net \\' ;\\r\\n\\' rogercdavis @ home . com \\' ; \\' stefaniedavis @ yahoo . com \\' ; \\' bamadavis @ aol . com \\' ;\\r\\n\\' dawsonsix @ aol . com \\' ; \\' heather @ icsi . net \\' ; \\' stephanie _ s _ day @ compusa . com \\' ;\\r\\n\\' cdelarios @ home . com \\' ; \\' cdeangulo @ msn . com \\' ; \\' ldeardurff @ mckinneyisd . net \\' ;\\r\\n\\' mdeardurff 62 @ msn . com \\' ; \\' victor . de . hoyos @ fritolay . com \\' ;\\r\\n\\' mrichmnd @ ix . netcom . com \\' ; \\' kelly 95 ag @ aol . com \\' ; \\' ivan 53 @ aol . com \\' ;\\r\\n\\' bdempsey @ dnaent . com \\' ; \\' macdeth @ swbell . net \\' ; \\' allandl @ airmail . net \\' ;\\r\\n\\' deweesw @ ttc . com \\' ; \\' tgd @ ffhm . com \\' ; \\' to _ ronda @ airmail . net \\' ;\\r\\n\\' jmditrapani @ nextlink . com \\' ; \\' ledlugos @ aol . com \\' ; \\' dlugosch @ home . com \\' ;\\r\\n\\' melvausa @ netscape . net \\' ; \\' aol 93775 @ dlemail . itg . ti . com \\' ;\\r\\n\\' chas 41 @ airmail . net \\' ; \\' mdorsett @ uni - bell . org \\' ;\\r\\n\\' m - mdouglas @ worldnet . att . net \\' ; \\' dovers @ sprintmail . com \\' ;\\r\\n\\' lorip @ rsn . hp . com \\' ; \\' michelle . drawert @ gte . net \\' ; \\' tisdalel @ flash . net \\' ;\\r\\n\\' sdrotma @ pisd . edu \\' ; \\' ndsouza @ unt . edu \\' ; \\' gary . dubois @ pizzahut . com \\' ;\\r\\n\\' madudko @ aol . com \\' ; \\' fduewall @ wmcobb . com \\' ; \\' jduffy @ cisco . com \\' ;\\r\\n\\' dduffy @ mis - world . com \\' ; \\' blakey @ flash . net \\' ; \\' greg _ dupree @ bigfoot . com \\' ;\\r\\n\\' michael . duran @ ps . net \\' ; \\' g - durham @ ti . coin \\' ; \\' crma @ flash . net \\' ;\\r\\n\\' travisdye @ home . com \\' ; \\' earnshaw @ flash . net \\' ; \\' mechols @ fastlane . net \\' ;\\r\\n\\' jason . eggl @ indsys . ge . com \\' ; \\' reicher @ tell . net \\' ; \\' eiland @ ti . com \\' ;\\r\\n\\' tome @ gwmail . plano . gov \\' ; \\' s _ elliott @ hotmail . com \\' ; \\' lellis @ ch 2 m . com \\' ;\\r\\n\\' tedcarles @ earthlink . net \\' ; \\' stephen . elmendorf @ teradyne . com \\' ;\\r\\n\\' bembrey @ ccgmail . com \\' ; \\' rempey @ waymark . net \\' ; \\' mengels @ airmail . net \\' ;\\r\\n\\' mentrop @ yahoo . com \\' ; \\' jepps @ intecom . com \\' ; \\' donerb @ home . com \\' ;\\r\\n\\' lucy _ vsi @ ix . netcom . com \\' ; \\' mike @ estesfinancial . com \\' ; \\' setch @ onebox . com \\' ;\\r\\n\\' kathyeudy @ yahoo . com \\' ; \\' pevers @ home . com \\' ; \\' kewing @ airmail . net \\' ;\\r\\n\\' deon . b . fair @ ac . com \\' ; \\' lisalynn 98 @ hotmail . com \\' ; \\' drjuiceplus @ home . com \\' ;\\r\\n\\' sfaseler @ lg . com \\' ; \\' rfeldman @ ascend . com \\' ; \\' j . felkner @ worldnet . att . net \\' ;\\r\\n\\' jferguso @ mony . com \\' ; \\' roger . ferguson @ fluor . com \\' ; \\' jtferrarol @ home . com \\' ;\\r\\n\\' tfiedler @ flash . net \\' ; \\' ififfick @ hharchitects . com \\' ;\\r\\n\\' davidfinley 82 @ yahoo . com \\' ; \\' duke . fisher @ wcom . com \\' ;\\r\\n\\' j _ fishero @ yahoo . com \\' ; \\' dfitzgerald @ mesquiteisd . org \\' ; \\' lpfitz @ wt . net \\' ;\\r\\n\\' 102372 . 2423 @ compuserve . com \\' ; \\' fleck @ concentric . net \\' ;\\r\\n\\' jannet @ dallas . net \\' ; \\' fleitman @ msn . com \\' ; \\' samf @ dallas . net \\' ;\\r\\n\\' rjflorio @ worldnet . att . net \\' ; \\' gulfview @ gateway . net \\' ;\\r\\n\\' d - forbes @ rtis . ray . com \\' ; \\' bgfort @ earthlink . net \\' ; \\' clfoster @ airmail . net \\' ;\\r\\n\\' r . foster @ prelude . com \\' ; \\' gfoyt @ hdrinc . com \\' ; \\' sfrancis @ everdream . com \\' ;\\r\\n\\' halgodal @ flash . net \\' ; \\' hedgehogracing @ msn . com \\' ;\\r\\n\\' steve . french @ aggies . org \\' ; \\' jfreytag @ airmail . net \\' ; \\' blakef @ msn . com \\' ;\\r\\n\\' michael . froman @ octel . com \\' ; \\' afruhling @ metasolv . com \\' ;\\r\\n\\' fuentes @ noval . net \\' ; \\' hiroko @ rsn . hp . com \\' ; \\' fulkfamily @ home . com \\' ;\\r\\n\\' ron . fuqua @ usa . alcatel . com \\' ; \\' debra . galarde @ eds . com \\' ;\\r\\n\\' txhoss @ ix . netcom . com \\' ; \\' jared . galloway @ fnc . fujitsu . com \\' ;\\r\\n\\' aubree . garrett @ fnc . fujitsu . com \\' ; \\' toniandmikeg @ home . com \\' ;\\r\\n\\' cwgary @ ont . com \\' ; \\' 2 ags @ flash . net \\' ; \\' sgaster @ kpmg . com \\' ;\\r\\n\\' zgoner @ airmail . net \\' ; \\' dgedeon @ vectrix . com \\' ;\\r\\n\\' tara . gedeon @ brannforbes . com \\' ; \\' jcjones @ rsn . hp . com \\' ;\\r\\n\\' tageo @ mindspring . com \\' ; \\' tgeorge @ flash . net \\' ; \\' teresagill @ email . com \\' ;\\r\\n\\' rglover @ halff . com \\' ; \\' dfglynnl @ msn . com \\' ; \\' mgolaboff @ eqrworld . com \\' ;\\r\\n\\' judie _ good @ yahoo . com \\' ; \\' gorski @ aggies . com \\' ; \\' algough @ yahoo . com \\' ;\\r\\n\\' neilgould @ usa . net \\' ; \\' sallsgraham @ hotmail . com \\' ; \\' pgranier @ portal . com \\' ;\\r\\n\\' begrant @ flash . net \\' ; \\' rgrantham @ worldnet . att . net \\' ; \\' tgravett @ wans . net \\' ;\\r\\n\\' chris _ greer @ hp . com \\' ; \\' hgreer @ alldata . net \\' ; \\' chrisg @ micrografx . com \\' ;\\r\\n\\' donindfw @ ix . netcom . com \\' ; \\' dan @ productcentre . com \\' ;\\r\\n\\' jgroce @ lasercomm - inc . com \\' ; \\' juggernaut @ connect . net \\' ;\\r\\n\\' katie _ gruebel @ hotmail . com \\' ; \\' amynurse @ hotmail . com \\' ; \\' bag 2 @ airmail . net \\' ;\\r\\n\\' kenneth _ guest @ hp . com \\' ; \\' jgump @ mail . arco . com \\' ; \\' wylie . gunter @ eds . com \\' ;\\r\\n\\' tim . gutschlag @ fnc . fujitsu . com \\' ; \\' guzmans @ home . com \\' ;\\r\\n\\' cherihaby @ home . com \\' ; \\' julie _ halloran @ yahoo . com \\' ;\\r\\n\\' chaltom @ conedrive . textron . com \\' ; \\' hamelb 21 @ ont . com \\' ;\\r\\n\\' talana 99 @ hotmail . com \\' ; \\' greg . hanks @ hanksbrokerage . com \\' ;\\r\\n\\' rharbin @ aris . com \\' ; \\' carrie . l . hardy @ fritolay . com \\' ;\\r\\n\\' scott _ harkins @ msn . com \\' ; \\' jharper @ flash . net \\' ;\\r\\n\\' jharrington @ sagetelecom . net \\' ; \\' roynteri @ mail . com \\' ;\\r\\n\\' steveharrod @ msn . com \\' ; \\' hartfield @ ti . com \\' ;\\r\\n\\' terry . k . hartzog @ us . arthurandersen . com \\' ; \\' kharvey @ pcrrent . com \\' ;\\r\\n\\' marji . j . harvey @ mail . sprint . com \\' ; \\' b - haskettl @ ti . com \\' ;\\r\\n\\' kelly _ hayes @ harwoodmarketing . com \\' ; \\' mhaye @ amkor . com \\' ;\\r\\n\\' alanh @ alliancearch . com \\' ; \\' mheath @ nextlink . com \\' ; \\' mheffner @ home . com \\' ;\\r\\n\\' jets @ ti . com \\' ; \\' glenn @ hc - cpa . com \\' ; \\' toddmel @ texoma . net \\' ;\\r\\n\\' kimberly . henderson @ ey . com \\' ; \\' dah 85 @ mindspring . com \\' ;\\r\\n\\' shenley @ flash . net \\' ; \\' rahennessy @ earthlink . com \\' ; \\' jherblin @ onramp . net \\' ;\\r\\n\\' carynlynn @ msn . com \\' ; \\' nascar @ mikeh . net \\' ; \\' travis @ herringangus . com \\' ;\\r\\n\\' anandted @ msn . com \\' ; \\' dherron @ pisd . edu \\' ; \\' mitchherzog @ yahoo . com \\' ;\\r\\n\\' sc _ hester @ hotmail . com \\' ; \\' jheye @ psp . com \\' ; \\' mhickox @ fiskrob . com \\' ;\\r\\n\\' lori @ efficient . com \\' ; \\' phinojos @ micro . honeywell . com \\' ;\\r\\n\\' d . hirt @ dialogic . com \\' ; \\' danetami @ airmail . net \\' ; \\' randyhobert @ msn . com \\' ;\\r\\n\\' blakekimhodge @ yahoo . com \\' ; \\' will @ . com \\' ;\\r\\n\\' choldrid @ airmail . net \\' ; \\' jnh @ ti . com \\' ; \\' tholman @ gte . net \\' ;\\r\\n\\' sholmeso 0 @ msn . com \\' ; \\' jholstea @ jpi . com \\' ; \\' sholton @ ticnet . com \\' ;\\r\\n\\' holyoak @ flash . net \\' ; \\' phorton @ usa . alcatel . com \\' ; \\' scott @ horton . net \\' ;\\r\\n\\' thowes @ mail . arco . com \\' ; \\' chad @ tice . com \\' ; \\' hugghins @ gte . net \\' ;\\r\\n\\' jhummel @ memc . com \\' ; \\' markhunt @ bigfoot . com \\' ; \\' thehurd @ hex . net \\' ;\\r\\n\\' b - hutcheson @ ti . com \\' ; \\' j . r . iacoponelli @ mciworld . com \\' ;\\r\\n\\' billirish @ hotmail . com \\' ; \\' czjkjj @ msn . com \\' ;\\r\\n\\' pat . jackson @ fnc . fujitsu . com \\' ; \\' sjackson @ opsos . net \\' ; \\' ararat @ flash . net \\' ;\\r\\n\\' stevejames @ home . com \\' ; \\' chellejanow @ hotmail . com \\' ;\\r\\n\\' asmith _ scuba @ yahoo . com \\' ; \\' bjehu @ yahoo . com \\' ;\\r\\n\\' ashlea _ jenkins @ hotmail . com \\' ; \\' cjenson @ flash . net \\' ; \\' mljideas @ home . com \\' ;\\r\\n\\' slj @ waymark . net \\' ; \\' rjolly _ 1 @ yahoo . com \\' ; \\' bsjones 50 @ hotmail . com \\' ;\\r\\n\\' craig - charlottejones @ worldnet . att . net \\' ; \\' danny @ lanyx . com \\' ;\\r\\n\\' mattjones @ ccgmail . com \\' ; \\' wjones @ clearsail . net \\' ;\\r\\n\\' sjordan 3 @ compuserve . com \\' ; \\' ryanjust @ hotmail . com \\' ;\\r\\n\\' chip @ cscfinancial . com \\' ; \\' lkcbsl @ home . com \\' ; \\' makall 5 @ flash . net \\' ;\\r\\n\\' twk @ msg . ti . com \\' ; \\' mkaplan @ augustmail . com \\' ; \\' ckarlik @ swbell . net \\' ;\\r\\n\\' shafia 30 @ hotmail . com \\' ; \\' mlkawas @ hotmail . com \\' ; \\' chipk @ nortel . com \\' ;\\r\\n\\' markkelley _ wurzburg @ yahoo . com \\' ; \\' mkelly 2575 @ juno . com \\' ;\\r\\n\\' danken 8765 @ home . com \\' ; \\' wolfcamp @ hotmail . com \\' ; \\' mjkereluk @ msn . com \\' ;\\r\\n\\' ckerley @ apclink . com \\' ; \\' lkerr @ evl . net \\' ; \\' r . kessel @ ssss . com \\' ;\\r\\n\\' dkessler @ waymark . net \\' ; \\' mkessner @ hotmail . com \\' ; \\' troykey @ peoplepc . com \\' ;\\r\\n\\' akilpatrick @ kurion . com \\' ; \\' kings 2 @ flash . net \\' ; \\' kingsr @ home . com \\' ;\\r\\n\\' jkingston @ ti . com \\' ; \\' skirchner @ worldnet . att . net \\' ;\\r\\n\\' chuck @ digitalpilot . com \\' ; \\' michael . kleppe @ ericsson . com \\' ;\\r\\n\\' jklouda @ flash . net \\' ; \\' dennis _ kniery @ hp . com \\' ; \\' sschulz @ mail . smu . edu \\' ;\\r\\n\\' lakohler @ raytheon . com \\' ; \\' james . kornegay @ eds . com \\' ; \\' knrkrause @ aol . com \\' ;\\r\\n\\' kckuddes @ altavista . com \\' ; \\' sakula @ flash . net \\' ; \\' skutchin @ leaelliott . com \\' ;\\r\\n\\' bladdusaw @ ti . com \\' ; \\' 103745 . 342 @ compuserve . com \\' ; \\' mellake @ yahoo . com \\' ;\\r\\n\\' paul . lake @ ps . net \\' ; \\' slakie @ texas . net \\' ; \\' jplane @ gte . net \\' ;\\r\\n\\' mlangloys @ aol . com \\' ; \\' rlanicek @ home . com \\' ;\\r\\n\\' barrett . lankford @ painewebber . com \\' ; \\' mlara @ pisd . edu \\' ; \\' gsl @ msn . com \\' ;\\r\\n\\' mikepl @ bnr . ca \\' ; \\' klavergne @ earthling . net \\' ;\\r\\n\\' winner @ sportsstandings . com \\' ; \\' mlecrone @ aol . com \\' ; \\' banglee @ ti . com \\' ;\\r\\n\\' coyote 97 @ swbell . net \\' ; \\' robertlee @ poboxes . com \\' ;\\r\\n\\' j . lemmons @ worldnet . att . net \\' ; \\' lesliel @ airmail . net \\' ; \\' lerich @ flash . net \\' ;\\r\\n\\' rlessmann @ home . com \\' ; \\' elethe @ gte . net \\' ; \\' mikelew @ nortelnetworks . com \\' ;\\r\\n\\' lewisr 691 @ home . com \\' ; \\' laliefer @ aol . com \\' ; \\' hkl 5320 @ dcccd . edu \\' ;\\r\\n\\' gmlz @ msg . ti . com \\' ; \\' blightsey @ systemdesk . com \\' ;\\r\\n\\' 74464 . 2612 @ compuserve . com \\' ; \\' jlind 2402 @ aol . com \\' ;\\r\\n\\' dlindstrom @ icidallas . com \\' ; \\' glinebaugh @ prodigy . net \\' ;\\r\\n\\' eflinhoff @ aol . com \\' ; \\' the . lisewskys @ prodigy . net \\' ;\\r\\n\\' mlish @ kennedywilson . com \\' ; \\' heidident @ aol . com \\' ; \\' katie 96 ag @ yahoo . com \\' ;\\r\\n\\' john _ london @ acs - inc . com \\' ; \\' ro 219 @ aol . com \\' ; \\' balott @ aol . com \\' ;\\r\\n\\' wadel @ swbell . net \\' ; \\' tglovell @ onramp . net \\' ; \\' tlovell @ ticnet . com \\' ;\\r\\n\\' rmlowry 4 @ yahoo . com \\' ; \\' mploya @ ti . com \\' ; \\' aggie 97 @ hotmail . com \\' ;\\r\\n\\' jlugo @ rhaaia . com \\' ; \\' klukshin @ kpmg . com \\' ; \\' dluna @ raltron . com \\' ;\\r\\n\\' ped @ nortel . ca \\' ; \\' clyons @ metasolv . com \\' ; \\' paulandkarin @ msn . com \\' ;\\r\\n\\' rlyttons @ aol . com \\' ; \\' emaas 94 @ yahoo . com \\' ; \\' spam . bait @ worldnet . att . net \\' ;\\r\\n\\' neardal @ airmail . net \\' ; \\' mmachesney @ aol . com \\' ; \\' netaces @ airmail . net \\' ;\\r\\n\\' richard . maddox @ mci . com \\' ; \\' betty . magee @ homesbybetty . com \\' ;\\r\\n\\' jmagrude @ jpi . com \\' ; \\' pxm @ msg . ti . com \\' ; \\' tracemajor @ hotmail . com \\' ;\\r\\n\\' mmalakoff @ aol . com \\' ; \\' judy . j . manning @ fritolay . com \\' ;\\r\\n\\' norris @ mantooth . com \\' ; \\' marchand _ darryl @ msn . com \\' ; \\' nrm 2000 @ hotmail . com \\' ;\\r\\n\\' mike . marino @ usoncology . com \\' ; \\' branonmarsh @ hotmail . com \\' ;\\r\\n\\' rmartin @ coserv . net \\' ; \\' dmason @ highpointtravel . com \\' ; \\' seanab @ gte . net \\' ;\\r\\n\\' debm 394 @ aol . com \\' ; \\' mathews - amy @ yahoo . com \\' ; \\' ags 84 @ aol . com \\' ;\\r\\n\\' equestlnm @ excite . com \\' ; \\' mjmattson @ home . com \\' ; \\' bmatulal @ airmail . net \\' ;\\r\\n\\' ilvjesus @ flash . net \\' ; \\' kmay 4001 @ aol . com \\' ; \\' cmayber @ pisd . edu \\' ;\\r\\n\\' jasonmayes @ earthlink . net \\' ; \\' jimbobq 88 @ aol . com \\' ; \\' mccaff @ anet - dfw . com \\' ;\\r\\n\\' bmccainl 62 @ aol . com \\' ; \\' almac @ wans . net \\' ; \\' mike . mcdonald @ ey . com \\' ;\\r\\n\\' dhm @ mcdowelllabel . com \\' ; \\' tmcevoy @ wordware . com \\' ;\\r\\n\\' trisheeey @ hotmail . com \\' ; \\' bmcgrego @ metrogroup . com \\' ; \\' rmckee @ ti . com \\' ;\\r\\n\\' jim _ mcmahan @ ctxmort . com \\' ; \\' bmcmillan @ motion - dynamics . com \\' ;\\r\\n\\' pmeggs @ aol . com \\' ; \\' mendezn @ nortelnetworks . com \\' ; \\' jenabug @ flash . net \\' ;\\r\\n\\' m _ mentzer @ hotmail . com \\' ; \\' sandymergen @ hotmail . com \\' ;\\r\\n\\' smerrill @ flash . net \\' ; \\' tiffany _ merrill @ yahoo . com \\' ;\\r\\n\\' jmersiovsky @ metasolv . com \\' ; \\' emetting @ hntb . com \\' ;\\r\\n\\' sue _ middleton @ juno . com \\' ; \\' jbm 326 @ aol . com \\' ; \\' barbmiller @ qualtx . com \\' ;\\r\\n\\' michael _ c . _ miller @ ac . com \\' ; \\' miller @ dallas . net \\' ;\\r\\n\\' hdjemills @ earthlink . net \\' ; \\' jmills @ dallas . net \\' ;\\r\\n\\' dminaldi @ contactdallas . com \\' ; \\' rminney @ entercon . com \\' ; \\' mlm @ ti . com \\' ;\\r\\n\\' jenmizar @ yahoo . com \\' ; \\' moonaggie @ cs . com \\' ; \\' jason @ aggies . org \\' ;\\r\\n\\' pipkins @ gateway . net \\' ; \\' danny . morris @ mciworld . com \\' ;\\r\\n\\' jcipolla @ hotmail . com \\' ; \\' cmorse @ waymark . net \\' ; \\' aggietx @ swbell . net \\' ;\\r\\n\\' m _ muecke @ hotmail . com \\' ; \\' jeff . mundt @ wcom . com \\' ; \\' amurphy 96 @ hotmail . com \\' ;\\r\\n\\' jmurphy 4 @ hotmail . com \\' ; \\' dannym @ churchrealty . com \\' ; \\' cmyers @ mycon . com \\' ;\\r\\n\\' greg @ lsil . com \\' ; \\' jnlzaza @ earthlink . net \\' ; \\' erinsneedham @ hotmail . com \\' ;\\r\\n\\' tpneeley @ worldnet . att . net \\' ; \\' jnelson @ source . com \\' ;\\r\\n\\' jnerwich @ mindspring . com \\' ; \\' goonet @ hotmail . com \\' ; \\' rpnew @ aol . com \\' ;\\r\\n\\' jeff . newton @ fritolay . com \\' ; \\' chrisgnichols @ yahoo . com \\' ;\\r\\n\\' r . niedenfuehr @ worldnet . att . net \\' ; \\' nielsonc @ sprynet . com \\' ;\\r\\n\\' rniesen @ ti . com \\' ; \\' jnobll @ jcpenney . com \\' ; \\' timcathy @ flash . net \\' ;\\r\\n\\' merkicpa @ gte . net \\' ; \\' rnorris @ joefunkconstr . com \\' ; \\' aggiel @ airmail . net \\' ;\\r\\n\\' cnorton @ brierley . com \\' ; \\' janicen @ architeriors . com \\' ;\\r\\n\\' nnowik @ mhagroup . com \\' ; \\' toconnor @ varo . com \\' ; \\' melody . oliver @ eds . com \\' ;\\r\\n\\' s - oliverl @ ti . com \\' ; \\' adrienneolsen @ hotmail . com \\' ; \\' roneal @ ins - inc . com \\' ;\\r\\n\\' tfonofrio @ aol . com \\' ; \\' b - orem @ rtis . ray . com \\' ; \\' jetpilot @ sprintmail . com \\' ;\\r\\n\\' orr @ caprock . net \\' ; \\' kwunsch @ ci . garland . tx . us \\' ; \\' jott @ rsn . hp . com \\' ;\\r\\n\\' tamc 66 @ aol . com \\' ; \\' atm 97 @ aol . com \\' ; \\' powen 94 @ yahoo . com \\' ;\\r\\n\\' yohanp @ netscape . net \\' ; \\' palitza @ att . net \\' ; \\' dpalmer @ pisd . edu \\' ;\\r\\n\\' cparker @ garlandpower - light . org \\' ; \\' wanda . parker @ wjpenterprises . com \\' ;\\r\\n\\' tamu 97 @ airmail . net \\' ; \\' jpatoskie @ home . com \\' ;\\r\\n\\' judy . peacock @ worldnet . att . net \\' ; \\' david . a . pearl @ travelers . com \\' ;\\r\\n\\' katie @ lifelinehomehealth . com \\' ; \\' ppedison @ aol . com \\' ;\\r\\n\\' lpeichel @ nortelnetworks . com \\' ; \\' mpell @ uswebcks . com \\' ; \\' dannyp 83 @ gte . net \\' ;\\r\\n\\' david _ perry @ 3 com . com \\' ; \\' picardl 999 @ hotmail . com \\' ;\\r\\n\\' friscoattorney @ aol . com \\' ; \\' dphillips @ pfsoutsourcing . com \\' ;\\r\\n\\' cpierce @ lee - eng . com \\' ; \\' kurtpifer @ hotmail . com \\' ;\\r\\n\\' stephen _ pilcher @ yahoo . com \\' ; \\' wpindar 3 @ email . msn . com \\' ;\\r\\n\\' pingenot @ gte . net \\' ; \\' pinzon @ nortel . com \\' ; \\' mwpiper @ onramp . net \\' ;\\r\\n\\' dpitts @ acm . org \\' ; \\' ppjp @ airmail . net \\' ; \\' mplumer @ synhrgy . com \\' ;\\r\\n\\' randy @ pogueinc . com \\' ; \\' jerrypoin @ home . com \\' ;\\r\\n\\' tony . pollacia @ fritolay . com \\' ; \\' tammypon @ hmhs . com \\' ;\\r\\n\\' kent @ webdelight . net \\' ; \\' cporter @ nortelnetworks . com \\' ;\\r\\n\\' sporter @ texas . net \\' ; \\' porterfields @ prodigy . net \\' ; \\' texas _ anm @ yahoo . com \\' ;\\r\\n\\' poteet @ dmans . com \\' ; \\' billpowello 4 @ home . com \\' ; \\' ammy 5 @ aol . com \\' ;\\r\\n\\' joshp @ thisco . com \\' ; \\' marykpowl @ syscodallas . com \\' ;\\r\\n\\' prater 2 @ earthlink . net \\' ; \\' dprattl @ home . com \\' ; \\' d - presley @ tamu . edu \\' ;\\r\\n\\' musicgrl 68 @ aol . com \\' ; \\' pauld @ homemail . com \\' ; \\' kpruitt @ gasequipment . com \\' ;\\r\\n\\' pprzada @ aol . com \\' ; \\' beckyp @ bmisystems . com \\' ; \\' impurdy @ 5 pillars . com \\' ;\\r\\n\\' mrpyatt @ airmail . net \\' ; \\' jlqjr @ gte . net \\' ; \\' scradford @ aol . com \\' ;\\r\\n\\' melissa _ ragan @ richards . com \\' ; \\' eric . ragle @ cisco - eagle . com \\' ;\\r\\n\\' maheswaran _ rajasekharan @ i 2 . com \\' ; \\' kikiaggie @ webcombo . net \\' ;\\r\\n\\' mramsey @ unitedad . com \\' ; \\' michael . rasmussen @ ps . net \\' ; \\' j - read @ tamu . edu \\' ;\\r\\n\\' jlreadpa @ aol . com \\' ; \\' reasor @ rsn . hp . com \\' ; \\' reck @ gateway . net \\' ;\\r\\n\\' cindy . redman @ eds . com \\' ; \\' dreed @ is . arco . com \\' ; \\' reedl 00 @ msn . com \\' ;\\r\\n\\' tdreed @ airmail . net \\' ; \\' solutionhr @ aol . com \\' ; \\' jreeves @ agave . com \\' ;\\r\\n\\' cremmele @ aol . com \\' ; \\' rrestivo @ eversoft . com \\' ; \\' erice 8 @ aol . com \\' ;\\r\\n\\' sanrice @ aol . com \\' ; \\' ct _ richard @ hotmail . com \\' ; \\' mrichard @ arcmail . com \\' ;\\r\\n\\' krichards @ acsdallas . com \\' ; \\' paula . g . richmond @ fritolay . com \\' ;\\r\\n\\' jrickman @ hppclaw . com \\' ; \\' tlrigby @ home . com \\' ; \\' kcriggs @ yahoo . com \\' ;\\r\\n\\' mrightm @ mail . arco . com \\' ; \\' jriha @ businessobjects . com \\' ; \\' rrinker @ wtd . net \\' ;\\r\\n\\' rippees @ swbell . net \\' ; \\' rippel @ utdallas . edu \\' ; \\' writchie @ ci . irving . tx . us \\' ;\\r\\n\\' bradyroberts @ hotmail . com \\' ; \\' laserbaker @ worldnet . att . net \\' ;\\r\\n\\' frobert @ aol . com \\' ; \\' krisaggi @ aol . com \\' ; \\' ker @ ti . com \\' ; \\' roco @ nortel . com \\' ;\\r\\n\\' kjroeker @ airmail . net \\' ; \\' jimroseo 3 @ home . com \\' ;\\r\\n\\' suzanne _ ross @ campbellsoup . com \\' ; \\' jim _ rountree @ logiclsales . com \\' ;\\r\\n\\' eddie . rueffer @ mci . com \\' ; \\' srupprecht @ chubb . com \\' ; \\' jennyr @ wtd . net \\' ;\\r\\n\\' kimed @ hotmail . com \\' ; \\' jryan @ uswebcks . com \\' ; \\' emsalazar 25 @ hotmail . com \\' ;\\r\\n\\' k - salazarl @ ti . com \\' ; \\' jlsales @ waymark . net \\' ;\\r\\n\\' msanchez @ mckinneytexas . org \\' ; \\' steven . sarkissian @ painwebber . com \\' ;\\r\\n\\' danna @ nortelnetworks . com \\' ; \\' tsawyers @ aol . com \\' ; \\' scheumack @ juno . com \\' ;\\r\\n\\' dschmidt @ camozzi - usa . com \\' ; \\' pschmidt @ connect . net \\' ; \\' tammyms @ yahoo . com \\' ;\\r\\n\\' nathan . schockmel @ usa . alcatel . com \\' ; \\' kschoenhals @ metasolv . com \\' ;\\r\\n\\' schuelerjs @ aol . com \\' ; \\' diana _ p _ seal @ email . mobil . com \\' ;\\r\\n\\' pkemper @ 3 dfx . com \\' ; \\' sherri . seeger @ wylieisd . net \\' ; \\' maseeley @ avaya . com \\' ;\\r\\n\\' tseely @ attglobal . net \\' ; \\' rshackelford @ home . com \\' ;\\r\\n\\' shannons @ websurfer . net \\' ; \\' jtshannon @ ticnet . com \\' ;\\r\\n\\' loren . sharkey @ brinker . com \\' ; \\' rehan @ computer . org \\' ; \\' gryffynn @ aol . com \\' ;\\r\\n\\' xosloren @ ti . com \\' ; \\' roger . shellenberger @ exscol . exch . eds . com \\' ;\\r\\n\\' kshelton @ amfm . com \\' ; \\' samleannshields @ aol . com \\' ; \\' sbshin @ evl . net \\' ;\\r\\n\\' alsikes @ pbsj . com \\' ; \\' glenn _ silva @ gmaccm . com \\' ;\\r\\n\\' frank . silva @ industrialrisk . com \\' ; \\' simmonds @ marykay . com \\' ;\\r\\n\\' atmrick @ aol . com \\' ; \\' isivin @ aol . com \\' ; \\' rskaggs @ hksinc . com \\' ;\\r\\n\\' bskalberg @ aol . com \\' ; \\' todd @ nkn . net \\' ; \\' dsmart @ dttus . com \\' ;\\r\\n\\' amy . l . smith @ eds . com \\' ; \\' egsmith @ home . com \\' ;\\r\\n\\' john _ charles _ smith @ compuserve . com \\' ; \\' john - h - smith @ raytheon . com \\' ;\\r\\n\\' ksmith @ kma - rjfs . com \\' ; \\' shanda @ wans . net \\' ;\\r\\n\\' michael . smith @ usa . alcatel . com \\' ; \\' rjsmith @ minutemaid . com \\' ;\\r\\n\\' rsmith @ metasolv . com \\' ; \\' dick _ smith @ pagenet . com \\' ;\\r\\n\\' agent _ maroon @ hotmail . com \\' ; \\' enviropure @ home . com \\' ; \\' unclewil @ home . com \\' ;\\r\\n\\' jsmitherman @ cinemark . com \\' ; \\' jim _ snow @ millipore . com \\' ;\\r\\n\\' gpsparks @ hotmail . com \\' ; \\' tspo 92891 @ aol . com \\' ; \\' dspencer @ dbssystems . com \\' ;\\r\\n\\' lspielel @ txu . com \\' ; \\' txagl 987 @ aol . com \\' ; \\' g - stanford @ raytheon . com \\' ;\\r\\n\\' petgeoguru @ hotmail . com \\' ; \\' jstara @ arcmail . com \\' ;\\r\\n\\' kgstavin @ garlandisd . net \\' ; \\' tbstebbins @ aol . com \\' ; \\' jsteck @ ti . com \\' ;\\r\\n\\' steffler @ mindspring . com \\' ; \\' gsteglich @ home . com \\' ; \\' shane @ computer . org \\' ;\\r\\n\\' sastephen @ home . com \\' ; \\' dereks @ us . ibm . com \\' ; \\' tsteudtner @ aol . com \\' ;\\r\\n\\' jill . stevens @ risd . org \\' ; \\' jnelwyn @ aol . com \\' ; \\' dons @ gwmail . plano . gov \\' ;\\r\\n\\' mstewart 70 @ aol . com \\' ; \\' pstewart 86 @ hotmail . com \\' ;\\r\\n\\' rastewartl 2 @ hotmail . com \\' ; \\' msticken @ airmail . net \\' ;\\r\\n\\' cstockmoe @ yahoo . com \\' ; \\' k - stokes @ tamu . edu \\' ; \\' michael _ stone @ nt . com \\' ;\\r\\n\\' mcstrietzel @ home . com \\' ; \\' staceys @ omassociates . com \\' ;\\r\\n\\' sstroth @ glitsch . com \\' ; \\' h - r . strozewski @ worldnet . att . net \\' ;\\r\\n\\' astryker @ swbell . net \\' ; \\' macecs @ hotmail . com \\' ; \\' smsturgeon @ kpmg . com \\' ;\\r\\n\\' sullivan 22 @ home . com \\' ; \\' normas @ airmail . net \\' ; \\' wswanson @ cyberramp . net \\' ;\\r\\n\\' rtank 20 @ aol . com \\' ; \\' matt _ tanner @ txu . com \\' ; \\' ftargac @ hotmail . com \\' ;\\r\\n\\' taylorgr @ nortel . com \\' ; \\' taylorl @ airmail . net \\' ; \\' aggierob @ hotmail . com \\' ;\\r\\n\\' teresa . taylor @ st . com \\' ; \\' ticaw @ hotmail . com \\' ; \\' wst @ flash . net \\' ;\\r\\n\\' caceett @ hotmail . com \\' ; \\' punt 3442 @ aol . com \\' ; \\' chris . t @ prodigy . net \\' ;\\r\\n\\' denise . thatcher @ eds . com \\' ; \\' mjthed @ earthlink . net \\' ;\\r\\n\\' brandon . theis @ eds . com \\' ; \\' steve _ thelen @ cushwake . com \\' ;\\r\\n\\' arthur . thomas @ ace - ina . com \\' ; \\' tthomas @ cooperinst . org \\' ;\\r\\n\\' dthomps 2 @ pisd . edu \\' ; \\' nthompson @ swst . com \\' ; \\' psthompson @ mindspring . com \\' ;\\r\\n\\' rthompso @ kofax . com \\' ; \\' tierney _ thompson @ winston - school . org \\' ;\\r\\n\\' b - tinker @ ti . com \\' ; \\' tipp @ airmail . net \\' ; \\' atokarz @ usa . alcatel . com \\' ;\\r\\n\\' bevtoney @ aol . com \\' ; \\' kstowery @ mindspring . com \\' ;\\r\\n\\' patrick . traubert @ tripointglobal . com \\' ; \\' heidigigem 96 @ yahoo . com \\' ;\\r\\n\\' tiffanytrox @ yahoo . com \\' ; \\' dddtruitt @ juno . com \\' ;\\r\\n\\' tschetter @ worldnet . att . net \\' ; \\' 9 mtucker @ home . com \\' ;\\r\\n\\' oxymomloree @ aol . com \\' ; \\' cturner @ entest . net \\' ; \\' aisdal @ aol . com \\' ;\\r\\n\\' rachturney @ yahoo . com \\' ; \\' gulteig @ starrunner . net \\' ; \\' gutay @ airmail . net \\' ;\\r\\n\\' hutay @ yahoo . com \\' ; \\' valls @ earthlink . net \\' ; \\' hvanpelt @ msn . net \\' ;\\r\\n\\' dwv @ vanderburg . org \\' ; \\' timv @ cheerful . com \\' ; \\' r - cvaughn @ juno . com \\' ;\\r\\n\\' annette . vela @ homecomings . com \\' ; \\' jvetkoetter @ pipeline . com \\' ;\\r\\n\\' diane _ vetter @ hotmail . com \\' ; \\' vicem @ hdvest . com \\' ; \\' jennifer @ vilches . org \\' ;\\r\\n\\' pvilches @ home . com \\' ; \\' spvill @ flash . net \\' ; \\' ssv @ attglobal . net \\' ;\\r\\n\\' kristi . l . vitek @ fritolay . com \\' ; \\' voltin @ airmail . net \\' ; \\' wagso 0 @ yahoo . com \\' ;\\r\\n\\' walessc @ nortelnetworks . com \\' ; \\' bwalker @ fmtinv . com \\' ;\\r\\n\\' brian . walker @ exchange - point . com \\' ; \\' deanwalker @ computer . org \\' ;\\r\\n\\' ken . walker @ mscsoftware . com \\' ; \\' shannon . wallace @ usa . net \\' ;\\r\\n\\' b _ wallace @ prodigy . net \\' ; \\' wwallenl @ airmail . net \\' ; \\' mkwalle @ yahoo . com \\' ;\\r\\n\\' twaller @ excite . com \\' ; \\' drwaller @ hotmail . com \\' ;\\r\\n\\' maxwalters @ worldnet . att . net \\' ; \\' kwalzel @ cisco . com \\' ;\\r\\n\\' julie . warden @ mhmr . state . tx . us \\' ; \\' warner @ ont . com \\' ; \\' watersco @ flash . net \\' ;\\r\\n\\' julie . watkins @ eds . com \\' ; \\' apwo 397 @ juno . com \\' ; \\' patricia . watsono 2 @ ey . com \\' ;\\r\\n\\' jwebb @ dalsemi . com \\' ; \\' jkwebb 41 @ gateway . net \\' ; \\' debbiew @ mciworld . com \\' ;\\r\\n\\' robin - w @ juno . com \\' ; \\' sally _ welch @ excite . com \\' ;\\r\\n\\' twelch @ nortelnetworks . com \\' ; \\' awaller @ csc . com \\' ;\\r\\n\\' gregwemhoener @ home . com \\' ; \\' susanwempe @ hotmail . com \\' ; \\' jwest 78 @ aol . com \\' ;\\r\\n\\' mike . west @ usa . alcatel . com \\' ; \\' joannwest @ earthlink . net \\' ;\\r\\n\\' mweynand @ flash . net \\' ; \\' weynandken @ johndeere . com \\' ; \\' mweynand @ flash . net \\' ;\\r\\n\\' mmw @ airmail . net \\' ; \\' ewheal @ jcpenney . com \\' ; \\' swhite @ tx . pathnet . net \\' ;\\r\\n\\' txag 93 sw @ flash . net \\' ; \\' chris @ iex . com \\' ; \\' wiegard @ nortel . com \\' ;\\r\\n\\' cindyw @ pobox . com \\' ; \\' jbouldin @ teleteam . com \\' ; \\' mike @ paragon - tx . com \\' ;\\r\\n\\' rtwilkinsn @ aol . com \\' ; \\' jerriw @ arn . net \\' ; \\' joeaggie 93 @ msn . com \\' ;\\r\\n\\' kristilw @ swbell . net \\' ; \\' a 50 @ flash . net \\' ; \\' rkwbdw 580 @ cs . com \\' ;\\r\\n\\' kswccw @ swbell . net \\' ; \\' designpath @ sprynet . com \\' ; \\' drw 58 ag @ aol . com \\' ;\\r\\n\\' wilsonaggies @ home . com \\' ; \\' normabautista @ worldnet . att . net \\' ;\\r\\n\\' skisheri @ aol . com \\' ; \\' emajo . wilson @ gte . net \\' ; \\' jenkonquin @ aol . com \\' ;\\r\\n\\' wvicw @ aol . com \\' ; \\' teresa . wood @ st . com \\' ; \\' lwood 963 @ flash . net \\' ;\\r\\n\\' tcwoolley @ writeme . com \\' ; \\' sworsham @ supermovers . com \\' ;\\r\\n\\' brad _ worth @ csicontrols . com \\' ; \\' wrightson . family @ gte . net \\' ;\\r\\n\\' dwu @ tqtx . com \\' ; \\' dlwylie @ swbell . net \\' ; \\' christa . yakel @ sap - ag . de \\' ;\\r\\n\\' yarbrough _ james @ hotmail . com \\' ; \\' suzan @ guyyork . com \\' ;\\r\\n\\' karen _ znoj @ merck . com \\'\\r\\nsubject : \" red , white and blue out \"\\r\\nsubject : the osu game and aggie spirit\\r\\nthis just in ags ! if you are going to the osu game on sept 22 , a red , white\\r\\n& blue out is being planned , just like the maroon out games for the osu\\r\\ngame .\\r\\nags , what better statement can we aggies make , than to celebrate the love\\r\\nand support for our country \\' s freedom , and our patriotic nature , than this\\r\\nway :\\r\\nimagine . . . the fightin \\' texas aggie band playing \" the star spangled banner , \"\\r\\nplaying military drills as they walk around the stadium , and we celebrate\\r\\nour love for our country , and our support for all the heroes , alive and\\r\\ndeceased . color assignments are as follows :\\r\\n3 rd deck : red\\r\\n2 nd deck : white lst deck : blue\\r\\npass the word on . . . . we have 1 1 / 2 weeks ! !\\r\\nthe spirit of america , and the aggie spirit is still alive . god bless\\r\\namerica , the free nation .\\r\\npass it on .'"
      ]
     },
     "execution_count": 73,
     "metadata": {},
     "output_type": "execute_result"
    }
   ],
   "source": [
    "#printing the longest text\n",
    "spamham[spamham['length']==32258]['text'].iloc[0]"
   ]
  },
  {
   "cell_type": "code",
   "execution_count": 74,
   "id": "310e1274-7e8e-498e-bbec-4725ee5eb2a9",
   "metadata": {},
   "outputs": [
    {
     "data": {
      "text/plain": [
       "array([<AxesSubplot:title={'center':'ham'}>,\n",
       "       <AxesSubplot:title={'center':'spam'}>], dtype=object)"
      ]
     },
     "execution_count": 74,
     "metadata": {},
     "output_type": "execute_result"
    },
    {
     "data": {
      "image/png": "[encoded data removed]",
      "text/plain": [
       "<Figure size 864x288 with 2 Axes>"
      ]
     },
     "metadata": {
      "needs_background": "light"
     },
     "output_type": "display_data"
    }
   ],
   "source": [
    "#length histograms of two labels\n",
    "spamham.hist(column='length',by='label',bins=60,figsize=(12,4))"
   ]
  },
  {
   "cell_type": "code",
   "execution_count": 75,
   "id": "6ee74142-6d66-49e3-8698-86baf3946f75",
   "metadata": {},
   "outputs": [],
   "source": [
    "#function to process the text column\n",
    "def text_process(mess):\n",
    "    \"\"\"\n",
    "    Takes in a string of text, then performs the following:\n",
    "    1. Remove all punctuation\n",
    "    2. Remove all stopwords\n",
    "    3. Returns a list of the cleaned text\n",
    "    \"\"\"\n",
    "    # Check characters to see if they are in punctuation\n",
    "    nopunc=[char for char in mess if char not in string.punctuation]\n",
    "    # Join the characters again to form the string.\n",
    "    nopunc=''.join(nopunc)\n",
    "    # Now just remove any stopwords\n",
    "    return [word for word in nopunc.split() if word.lower() not in stopwords.words('english')]"
   ]
  },
  {
   "cell_type": "code",
   "execution_count": 76,
   "id": "e07e7850-cabc-4a42-ab98-12948c56390b",
   "metadata": {},
   "outputs": [],
   "source": [
    "test=spamham['text'].head(5).apply(text_process)"
   ]
  },
  {
   "cell_type": "code",
   "execution_count": 78,
   "id": "bb2af50d-3070-443b-94a3-e58224b3c0a4",
   "metadata": {},
   "outputs": [
    {
     "data": {
      "text/html": [
       "<div>\n",
       "<style scoped>\n",
       "    .dataframe tbody tr th:only-of-type {\n",
       "        vertical-align: middle;\n",
       "    }\n",
       "\n",
       "    .dataframe tbody tr th {\n",
       "        vertical-align: top;\n",
       "    }\n",
       "\n",
       "    .dataframe thead th {\n",
       "        text-align: right;\n",
       "    }\n",
       "</style>\n",
       "<table border=\"1\" class=\"dataframe\">\n",
       "  <thead>\n",
       "    <tr style=\"text-align: right;\">\n",
       "      <th></th>\n",
       "      <th>label</th>\n",
       "      <th>text</th>\n",
       "      <th>label_num</th>\n",
       "      <th>length</th>\n",
       "    </tr>\n",
       "  </thead>\n",
       "  <tbody>\n",
       "    <tr>\n",
       "      <th>0</th>\n",
       "      <td>ham</td>\n",
       "      <td>Subject: enron methanol ; meter # : 988291\\r\\n...</td>\n",
       "      <td>0</td>\n",
       "      <td>327</td>\n",
       "    </tr>\n",
       "    <tr>\n",
       "      <th>1</th>\n",
       "      <td>ham</td>\n",
       "      <td>Subject: hpl nom for january 9 , 2001\\r\\n( see...</td>\n",
       "      <td>0</td>\n",
       "      <td>97</td>\n",
       "    </tr>\n",
       "    <tr>\n",
       "      <th>2</th>\n",
       "      <td>ham</td>\n",
       "      <td>Subject: neon retreat\\r\\nho ho ho , we ' re ar...</td>\n",
       "      <td>0</td>\n",
       "      <td>2524</td>\n",
       "    </tr>\n",
       "    <tr>\n",
       "      <th>3</th>\n",
       "      <td>spam</td>\n",
       "      <td>Subject: photoshop , windows , office . cheap ...</td>\n",
       "      <td>1</td>\n",
       "      <td>414</td>\n",
       "    </tr>\n",
       "    <tr>\n",
       "      <th>4</th>\n",
       "      <td>ham</td>\n",
       "      <td>Subject: re : indian springs\\r\\nthis deal is t...</td>\n",
       "      <td>0</td>\n",
       "      <td>336</td>\n",
       "    </tr>\n",
       "  </tbody>\n",
       "</table>\n",
       "</div>"
      ],
      "text/plain": [
       "  label                                               text  label_num  length\n",
       "0   ham  Subject: enron methanol ; meter # : 988291\\r\\n...          0     327\n",
       "1   ham  Subject: hpl nom for january 9 , 2001\\r\\n( see...          0      97\n",
       "2   ham  Subject: neon retreat\\r\\nho ho ho , we ' re ar...          0    2524\n",
       "3  spam  Subject: photoshop , windows , office . cheap ...          1     414\n",
       "4   ham  Subject: re : indian springs\\r\\nthis deal is t...          0     336"
      ]
     },
     "execution_count": 78,
     "metadata": {},
     "output_type": "execute_result"
    }
   ],
   "source": [
    "#original dataframe\n",
    "spamham.head(5)"
   ]
  },
  {
   "cell_type": "code",
   "execution_count": 80,
   "id": "55921f90-3f4e-4af1-999b-bf01ec0a8e65",
   "metadata": {},
   "outputs": [
    {
     "data": {
      "text/plain": [
       "0    [Subject, enron, methanol, meter, 988291, foll...\n",
       "1    [Subject, hpl, nom, january, 9, 2001, see, att...\n",
       "2    [Subject, neon, retreat, ho, ho, ho, around, w...\n",
       "3    [Subject, photoshop, windows, office, cheap, m...\n",
       "4    [Subject, indian, springs, deal, book, teco, p...\n",
       "Name: text, dtype: object"
      ]
     },
     "execution_count": 80,
     "metadata": {},
     "output_type": "execute_result"
    }
   ],
   "source": [
    "#after cleaning text\n",
    "test"
   ]
  },
  {
   "cell_type": "code",
   "execution_count": 21,
   "id": "b5d012a9-b098-4e59-b42c-c35db2f29ae4",
   "metadata": {},
   "outputs": [],
   "source": [
    "#setting X and y\n",
    "X = spamham['text']\n",
    "y = spamham['label']"
   ]
  },
  {
   "cell_type": "code",
   "execution_count": 22,
   "id": "3a6f8c23-b818-42d7-88e4-86a9c86bcb2f",
   "metadata": {},
   "outputs": [],
   "source": [
    "#Vectorization with text process as analyzer\n",
    "bow_transformer = CountVectorizer(analyzer=text_process).fit(X)"
   ]
  },
  {
   "cell_type": "code",
   "execution_count": 23,
   "id": "fa085926-9e10-4169-91bf-489ff4fc6fce",
   "metadata": {},
   "outputs": [],
   "source": [
    "#.transform on our Bag-of-Words (bow) transformed object and transform the entire DataFrame of text\n",
    "messages_bow = bow_transformer.transform(X)"
   ]
  },
  {
   "cell_type": "code",
   "execution_count": 81,
   "id": "231e30e8-7e2f-49f7-812b-024baef478b5",
   "metadata": {},
   "outputs": [],
   "source": [
    "#tfidf fit/transform\n",
    "tfidf_transformer = TfidfTransformer().fit(messages_bow)"
   ]
  },
  {
   "cell_type": "code",
   "execution_count": 82,
   "id": "267e4e5c-23c5-409e-af9d-610e2daaf77c",
   "metadata": {},
   "outputs": [],
   "source": [
    "X=tfidf_transformer.transform(messages_bow)\n"
   ]
  },
  {
   "cell_type": "code",
   "execution_count": 83,
   "id": "8f3aa993-0928-45b7-beeb-86e73c2dda1b",
   "metadata": {},
   "outputs": [],
   "source": [
    "#train test spilt\n",
    "X_train, X_test, y_train, y_test = train_test_split(X, y, test_size=0.3)"
   ]
  },
  {
   "cell_type": "code",
   "execution_count": 91,
   "id": "cd87fe88-ecf5-4cd3-af17-a297248031ef",
   "metadata": {},
   "outputs": [],
   "source": [
    "#randomforest\n",
    "rf_model=RandomForestClassifier()\n"
   ]
  },
  {
   "cell_type": "code",
   "execution_count": 92,
   "id": "7fdc625c-cfea-4579-81ad-6c1ec34f8753",
   "metadata": {},
   "outputs": [
    {
     "data": {
      "text/plain": [
       "RandomForestClassifier()"
      ]
     },
     "execution_count": 92,
     "metadata": {},
     "output_type": "execute_result"
    }
   ],
   "source": [
    "rf_model.fit(X_train,y_train)"
   ]
  },
  {
   "cell_type": "code",
   "execution_count": 93,
   "id": "744ccf33-4722-4eaa-ada7-ab7bed07a5b1",
   "metadata": {},
   "outputs": [],
   "source": [
    "preds=rf_model.predict(X_test)"
   ]
  },
  {
   "cell_type": "code",
   "execution_count": 94,
   "id": "77ea44b7-c7b8-494d-bc31-884f2c13d006",
   "metadata": {},
   "outputs": [
    {
     "name": "stdout",
     "output_type": "stream",
     "text": [
      "              precision    recall  f1-score   support\n",
      "\n",
      "         ham       0.98      0.99      0.99      1099\n",
      "        spam       0.99      0.94      0.97       453\n",
      "\n",
      "    accuracy                           0.98      1552\n",
      "   macro avg       0.98      0.97      0.98      1552\n",
      "weighted avg       0.98      0.98      0.98      1552\n",
      "\n"
     ]
    }
   ],
   "source": [
    "#classification report\n",
    "print(classification_report(preds,y_test))"
   ]
  },
  {
   "cell_type": "code",
   "execution_count": 95,
   "id": "004ed28e-b267-48af-b4e9-02e8541365fa",
   "metadata": {},
   "outputs": [],
   "source": [
    "#confusion matrix\n",
    "cnf_matrix=confusion_matrix(y_test,preds)"
   ]
  },
  {
   "cell_type": "code",
   "execution_count": 96,
   "id": "615edc63-008b-4058-948b-2d2e3f59d945",
   "metadata": {},
   "outputs": [
    {
     "data": {
      "text/plain": [
       "<AxesSubplot:>"
      ]
     },
     "execution_count": 96,
     "metadata": {},
     "output_type": "execute_result"
    },
    {
     "data": {
      "image/png": "[encoded data removed]",
      "text/plain": [
       "<Figure size 432x288 with 2 Axes>"
      ]
     },
     "metadata": {
      "needs_background": "light"
     },
     "output_type": "display_data"
    }
   ],
   "source": [
    "sns.heatmap(pd.DataFrame(cnf_matrix),annot=True,fmt='g')"
   ]
  },
  {
   "cell_type": "code",
   "execution_count": 97,
   "id": "8a4f283d-2126-41ab-9740-abf89d350db9",
   "metadata": {},
   "outputs": [],
   "source": [
    "#MultinomialNB\n",
    "mn_model=MultinomialNB()"
   ]
  },
  {
   "cell_type": "code",
   "execution_count": 98,
   "id": "723c4a88-6345-4bf1-a90a-b5dab7975b16",
   "metadata": {},
   "outputs": [
    {
     "data": {
      "text/plain": [
       "MultinomialNB()"
      ]
     },
     "execution_count": 98,
     "metadata": {},
     "output_type": "execute_result"
    }
   ],
   "source": [
    "mn_model.fit(X_train,y_train)"
   ]
  },
  {
   "cell_type": "code",
   "execution_count": 99,
   "id": "f44249fe-17ea-4485-a29a-e275d94c7771",
   "metadata": {},
   "outputs": [],
   "source": [
    "preds2=mn_model.predict(X_test)"
   ]
  },
  {
   "cell_type": "code",
   "execution_count": 100,
   "id": "8c40c7d0-fcbf-4186-b44d-2605a42b649d",
   "metadata": {},
   "outputs": [
    {
     "name": "stdout",
     "output_type": "stream",
     "text": [
      "              precision    recall  f1-score   support\n",
      "\n",
      "         ham       1.00      0.90      0.95      1236\n",
      "        spam       0.73      1.00      0.84       316\n",
      "\n",
      "    accuracy                           0.92      1552\n",
      "   macro avg       0.86      0.95      0.90      1552\n",
      "weighted avg       0.94      0.92      0.93      1552\n",
      "\n"
     ]
    }
   ],
   "source": [
    "print(classification_report(preds2,y_test))"
   ]
  },
  {
   "cell_type": "code",
   "execution_count": 101,
   "id": "dc3419da-5ade-4f47-82c0-d404330608a1",
   "metadata": {},
   "outputs": [],
   "source": [
    "cnf_matrix2=confusion_matrix(y_test,preds2)"
   ]
  },
  {
   "cell_type": "code",
   "execution_count": 102,
   "id": "74dabbbe-c558-4606-97ae-8074de6c6c43",
   "metadata": {},
   "outputs": [
    {
     "data": {
      "text/plain": [
       "<AxesSubplot:>"
      ]
     },
     "execution_count": 102,
     "metadata": {},
     "output_type": "execute_result"
    },
    {
     "data": {
      "image/png": "[encoded data removed]",
      "text/plain": [
       "<Figure size 432x288 with 2 Axes>"
      ]
     },
     "metadata": {
      "needs_background": "light"
     },
     "output_type": "display_data"
    }
   ],
   "source": [
    "sns.heatmap(pd.DataFrame(cnf_matrix2),annot=True,fmt='g')"
   ]
  },
  {
   "cell_type": "markdown",
   "id": "f3f1e59e-2bdf-4b6f-8aa3-8cc487957e2a",
   "metadata": {},
   "source": [
    "Predictions test"
   ]
  },
  {
   "cell_type": "code",
   "execution_count": 103,
   "id": "899dbcaa-3823-4ea1-8fcf-1b8fdf695553",
   "metadata": {},
   "outputs": [],
   "source": [
    "#lets take the fourth row of our dataset\n",
    "ex=spamham['text'][3]"
   ]
  },
  {
   "cell_type": "code",
   "execution_count": 104,
   "id": "6d659e06-e70a-423a-a87b-b633ba53a870",
   "metadata": {},
   "outputs": [
    {
     "name": "stdout",
     "output_type": "stream",
     "text": [
      "3    spam\n",
      "Name: label, dtype: object\n"
     ]
    }
   ],
   "source": [
    "print(spamham.iloc[[3]]['label'])"
   ]
  },
  {
   "cell_type": "code",
   "execution_count": 105,
   "id": "173d2d7b-f585-440f-a36f-c7a292eef51f",
   "metadata": {},
   "outputs": [
    {
     "data": {
      "text/plain": [
       "'Subject: photoshop , windows , office . cheap . main trending\\r\\nabasements darer prudently fortuitous undergone\\r\\nlighthearted charm orinoco taster\\r\\nrailroad affluent pornographic cuvier\\r\\nirvin parkhouse blameworthy chlorophyll\\r\\nrobed diagrammatic fogarty clears bayda\\r\\ninconveniencing managing represented smartness hashish\\r\\nacademies shareholders unload badness\\r\\ndanielson pure caffein\\r\\nspaniard chargeable levin\\r\\n'"
      ]
     },
     "execution_count": 105,
     "metadata": {},
     "output_type": "execute_result"
    }
   ],
   "source": [
    "ex"
   ]
  },
  {
   "cell_type": "code",
   "execution_count": 106,
   "id": "032a5f52-3fc6-4146-811b-a6b01f6b4445",
   "metadata": {},
   "outputs": [],
   "source": [
    "#transform the text as before\n",
    "bowtest = bow_transformer.transform([ex])"
   ]
  },
  {
   "cell_type": "code",
   "execution_count": 107,
   "id": "55de3acf-2eee-4f68-bbf5-4c7b869f5f76",
   "metadata": {},
   "outputs": [],
   "source": [
    "tftest = tfidf_transformer.transform(bowtest)"
   ]
  },
  {
   "cell_type": "code",
   "execution_count": 108,
   "id": "7a674d86-81c0-4db8-942d-5ce95360543b",
   "metadata": {},
   "outputs": [
    {
     "data": {
      "text/plain": [
       "'spam'"
      ]
     },
     "execution_count": 108,
     "metadata": {},
     "output_type": "execute_result"
    }
   ],
   "source": [
    "#randomforest prediction\n",
    "rf_model.predict(tftest)[0]"
   ]
  },
  {
   "cell_type": "code",
   "execution_count": 109,
   "id": "dc05b39e-4864-40ad-a766-266ae95ecf9e",
   "metadata": {},
   "outputs": [
    {
     "data": {
      "text/plain": [
       "'spam'"
      ]
     },
     "execution_count": 109,
     "metadata": {},
     "output_type": "execute_result"
    }
   ],
   "source": [
    "#MultinomialNB prediction\n",
    "mn_model.predict(tftest)[0]"
   ]
  },
  {
   "cell_type": "code",
   "execution_count": 110,
   "id": "953f63eb-8331-44ea-85f1-460a9ff17a20",
   "metadata": {},
   "outputs": [],
   "source": [
    "#lets take the first row of our dataset\n",
    "ex2=spamham['text'][0]"
   ]
  },
  {
   "cell_type": "code",
   "execution_count": 111,
   "id": "4122d35f-79a9-46f6-a865-3f8cf13e9116",
   "metadata": {},
   "outputs": [
    {
     "name": "stdout",
     "output_type": "stream",
     "text": [
      "0    ham\n",
      "Name: label, dtype: object\n"
     ]
    }
   ],
   "source": [
    "print(spamham.iloc[[0]]['label'])"
   ]
  },
  {
   "cell_type": "code",
   "execution_count": 112,
   "id": "9df148bc-41e4-443b-9c8f-486b3daee085",
   "metadata": {},
   "outputs": [
    {
     "data": {
      "text/plain": [
       "\"Subject: enron methanol ; meter # : 988291\\r\\nthis is a follow up to the note i gave you on monday , 4 / 3 / 00 { preliminary\\r\\nflow data provided by daren } .\\r\\nplease override pop ' s daily volume { presently zero } to reflect daily\\r\\nactivity you can obtain from gas control .\\r\\nthis change is needed asap for economics purposes .\""
      ]
     },
     "execution_count": 112,
     "metadata": {},
     "output_type": "execute_result"
    }
   ],
   "source": [
    "ex2"
   ]
  },
  {
   "cell_type": "code",
   "execution_count": 113,
   "id": "6ccceaa3-b0b9-4761-952c-8c2ad1a55c30",
   "metadata": {},
   "outputs": [],
   "source": [
    "bowtest = bow_transformer.transform([ex2])"
   ]
  },
  {
   "cell_type": "code",
   "execution_count": 114,
   "id": "9d362b5d-6591-43a3-9b56-612c446a200b",
   "metadata": {},
   "outputs": [],
   "source": [
    "tftest2 = tfidf_transformer.transform(bowtest)"
   ]
  },
  {
   "cell_type": "code",
   "execution_count": 115,
   "id": "988d895e-ba67-46c6-9779-d125c57881f3",
   "metadata": {},
   "outputs": [
    {
     "data": {
      "text/plain": [
       "'ham'"
      ]
     },
     "execution_count": 115,
     "metadata": {},
     "output_type": "execute_result"
    }
   ],
   "source": [
    "rf_model.predict(tftest2)[0]"
   ]
  },
  {
   "cell_type": "code",
   "execution_count": 116,
   "id": "3ec04bbb-e88c-41df-8acf-b4e9151152b0",
   "metadata": {},
   "outputs": [
    {
     "data": {
      "text/plain": [
       "'ham'"
      ]
     },
     "execution_count": 116,
     "metadata": {},
     "output_type": "execute_result"
    }
   ],
   "source": [
    "mn_model.predict(tftest2)[0]"
   ]
  },
  {
   "cell_type": "code",
   "execution_count": null,
   "id": "df819a80-6e48-4bcd-9b06-f8898ad21a6d",
   "metadata": {},
   "outputs": [],
   "source": []
  }
 ],
 "metadata": {
  "kernelspec": {
   "display_name": "Python [conda env:root] *",
   "language": "python",
   "name": "conda-root-py"
  },
  "language_info": {
   "codemirror_mode": {
    "name": "ipython",
    "version": 3
   },
   "file_extension": ".py",
   "mimetype": "text/x-python",
   "name": "python",
   "nbconvert_exporter": "python",
   "pygments_lexer": "ipython3",
   "version": "3.9.7"
  }
 },
 "nbformat": 4,
 "nbformat_minor": 5
}
